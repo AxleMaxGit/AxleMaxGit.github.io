{
 "cells": [
  {
   "cell_type": "code",
   "execution_count": 74,
   "metadata": {},
   "outputs": [],
   "source": [
    "import numpy as np\n",
    "from numpy.linalg import inv"
   ]
  },
  {
   "cell_type": "markdown",
   "metadata": {},
   "source": [
    "##### Polynomial Regression from Scratch"
   ]
  },
  {
   "cell_type": "code",
   "execution_count": 75,
   "metadata": {},
   "outputs": [
    {
     "data": {
      "text/plain": [
       "array([[ 1.],\n",
       "       [ 2.],\n",
       "       [ 3.],\n",
       "       [ 4.],\n",
       "       [ 5.],\n",
       "       [ 6.],\n",
       "       [ 7.],\n",
       "       [ 8.],\n",
       "       [ 9.],\n",
       "       [10.]])"
      ]
     },
     "execution_count": 75,
     "metadata": {},
     "output_type": "execute_result"
    }
   ],
   "source": [
    "#Generate x values\n",
    "x = np.array([float(i) for i in range(1, 11)])\n",
    "#format x values to N x M matrix (allows for multinomial vectors later)\n",
    "x = x[:, np.newaxis]\n",
    "x"
   ]
  },
  {
   "cell_type": "code",
   "execution_count": 76,
   "metadata": {},
   "outputs": [
    {
     "name": "stdout",
     "output_type": "stream",
     "text": [
      "[[  3.]\n",
      " [  8.]\n",
      " [ 15.]\n",
      " [ 24.]\n",
      " [ 35.]\n",
      " [ 48.]\n",
      " [ 63.]\n",
      " [ 80.]\n",
      " [ 99.]\n",
      " [120.]]\n"
     ]
    }
   ],
   "source": [
    "#Generate (errorless) target variables\n",
    "y = np.array([(i**2 + 2*i) for i in x])\n",
    "print(y)"
   ]
  },
  {
   "cell_type": "code",
   "execution_count": 77,
   "metadata": {},
   "outputs": [
    {
     "name": "stdout",
     "output_type": "stream",
     "text": [
      "[[   1.    1.    1.    1.]\n",
      " [   1.    2.    4.    8.]\n",
      " [   1.    3.    9.   27.]\n",
      " [   1.    4.   16.   64.]\n",
      " [   1.    5.   25.  125.]\n",
      " [   1.    6.   36.  216.]\n",
      " [   1.    7.   49.  343.]\n",
      " [   1.    8.   64.  512.]\n",
      " [   1.    9.   81.  729.]\n",
      " [   1.   10.  100. 1000.]]\n"
     ]
    }
   ],
   "source": [
    "#number of records\n",
    "rows = x.shape[0]\n",
    "\n",
    "#degree of polynomial you want\n",
    "degrees = 3\n",
    "\n",
    "#create a blank n x m+1 design matrix (the +1 allows for the y-intercept constant)\n",
    "dmatrix = np.zeros((rows, (degrees+1)))\n",
    "#print(dmatrix)\n",
    "\n",
    "for i in range(degrees+1):\n",
    "    #raise each column to power of i\n",
    "    dmatrix[:,i] = x[:,0]**i\n",
    "\n",
    "A = dmatrix\n",
    "print(A)"
   ]
  },
  {
   "cell_type": "code",
   "execution_count": 78,
   "metadata": {
    "scrolled": true
   },
   "outputs": [
    {
     "data": {
      "text/plain": [
       "array([[   1.,    1.,    1.,    1.],\n",
       "       [   8.,    4.,    2.,    1.],\n",
       "       [  27.,    9.,    3.,    1.],\n",
       "       [  64.,   16.,    4.,    1.],\n",
       "       [ 125.,   25.,    5.,    1.],\n",
       "       [ 216.,   36.,    6.,    1.],\n",
       "       [ 343.,   49.,    7.,    1.],\n",
       "       [ 512.,   64.,    8.,    1.],\n",
       "       [ 729.,   81.,    9.,    1.],\n",
       "       [1000.,  100.,   10.,    1.]])"
      ]
     },
     "execution_count": 78,
     "metadata": {},
     "output_type": "execute_result"
    }
   ],
   "source": [
    "#This step is not necessary (just makes it read L-R like the original polynomial that made y)\n",
    "#Flip the matrix horizontally so it reads like a normal expression with highest powers fist\n",
    "A = np.flip(A, 1)\n",
    "A"
   ]
  },
  {
   "cell_type": "code",
   "execution_count": 79,
   "metadata": {},
   "outputs": [],
   "source": [
    "# if you uncomment here and try to invert it errors because it is not invertible\n",
    "# invA = inv(A)\n",
    "# invA"
   ]
  },
  {
   "cell_type": "code",
   "execution_count": 80,
   "metadata": {},
   "outputs": [
    {
     "name": "stdout",
     "output_type": "stream",
     "text": [
      "[[   1.    8.   27.   64.  125.  216.  343.  512.  729. 1000.]\n",
      " [   1.    4.    9.   16.   25.   36.   49.   64.   81.  100.]\n",
      " [   1.    2.    3.    4.    5.    6.    7.    8.    9.   10.]\n",
      " [   1.    1.    1.    1.    1.    1.    1.    1.    1.    1.]]\n",
      "[[1.978405e+06 2.208250e+05 2.533300e+04 3.025000e+03]\n",
      " [2.208250e+05 2.533300e+04 3.025000e+03 3.850000e+02]\n",
      " [2.533300e+04 3.025000e+03 3.850000e+02 5.500000e+01]\n",
      " [3.025000e+03 3.850000e+02 5.500000e+01 1.000000e+01]]\n",
      "[[271491.]\n",
      " [ 31383.]\n",
      " [  3795.]\n",
      " [   495.]]\n"
     ]
    }
   ],
   "source": [
    "#To solve this multiply both sides by transpose A \n",
    "At = A.transpose()\n",
    "print(At)\n",
    "\n",
    "#Take product of AT & A to \"square the matrix\" so it can be inversed\n",
    "A_sq = np.dot(At, A)\n",
    "print(A_sq)\n",
    "\n",
    "#must perform the operation on both sides of the equation\n",
    "y_sq = np.dot(At, y)\n",
    "print(y_sq)"
   ]
  },
  {
   "cell_type": "code",
   "execution_count": 81,
   "metadata": {},
   "outputs": [
    {
     "name": "stdout",
     "output_type": "stream",
     "text": [
      "[[ 8.52651283e-14]\n",
      " [ 1.00000000e+00]\n",
      " [ 2.00000000e+00]\n",
      " [-7.27595761e-12]]\n"
     ]
    }
   ],
   "source": [
    "# Now you can solver for x  (i.e. find the missing coefficients)\n",
    "# rearrange as follows .. A*x=b  =>  x=b/A  =>  x = A^-1 * b\n",
    "\n",
    "\n",
    "coefficients = np.dot(inv(A_sq), y_sq)\n",
    "print(coefficients)"
   ]
  },
  {
   "cell_type": "code",
   "execution_count": 82,
   "metadata": {},
   "outputs": [
    {
     "name": "stdout",
     "output_type": "stream",
     "text": [
      "[[ 0.  1.  2. -0.]]\n"
     ]
    }
   ],
   "source": [
    "#some of these coefficents are tiny fractions. \n",
    "# If we display them rounded it is more obvious what the result is\n",
    "\n",
    "print(np.round_(coefficients.transpose(), decimals=2))"
   ]
  },
  {
   "cell_type": "code",
   "execution_count": 83,
   "metadata": {},
   "outputs": [],
   "source": [
    "#so the resuling equations is  ...\n",
    "\n",
    "#  0x^3 + 1x^2  + 2x  +  0\n",
    "\n",
    "#Which is exactly what we started with"
   ]
  }
 ],
 "metadata": {
  "kernelspec": {
   "display_name": "Python 3",
   "language": "python",
   "name": "python3"
  },
  "language_info": {
   "codemirror_mode": {
    "name": "ipython",
    "version": 3
   },
   "file_extension": ".py",
   "mimetype": "text/x-python",
   "name": "python",
   "nbconvert_exporter": "python",
   "pygments_lexer": "ipython3",
   "version": "3.7.3"
  }
 },
 "nbformat": 4,
 "nbformat_minor": 2
}
